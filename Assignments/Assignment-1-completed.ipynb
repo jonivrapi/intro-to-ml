{
 "cells": [
  {
   "cell_type": "markdown",
   "source": [
    "# Assignment 1\n",
    "\n",
    "We will be working with the `Iris Dataset` -- typically used as the `Hello world!` of machine learning projects. This dataset can be found in the `sklearn datasets`. You can find the jupyter notebook for this assignment [here](https://github.com/jonivrapi/intro-to-ml/blob/main/Assignments/Assignment-1.ipynb)."
   ],
   "metadata": {
    "collapsed": false
   },
   "id": "185486d6bd51f86f"
  },
  {
   "cell_type": "markdown",
   "source": [
    "**Question 1:** How many datapoints are in this dataset?"
   ],
   "metadata": {
    "collapsed": false
   },
   "id": "379e7fea227a1a3"
  },
  {
   "cell_type": "code",
   "outputs": [],
   "source": [],
   "metadata": {
    "collapsed": false,
    "ExecuteTime": {
     "end_time": "2024-01-06T21:36:33.725024400Z",
     "start_time": "2024-01-06T21:36:33.719016400Z"
    }
   },
   "id": "b2a0130522e6a39c",
   "execution_count": 0
  },
  {
   "cell_type": "markdown",
   "source": [
    "**Question 2:** How many columns (features) are there? "
   ],
   "metadata": {
    "collapsed": false
   },
   "id": "c0406b1754c01d82"
  },
  {
   "cell_type": "code",
   "outputs": [],
   "source": [],
   "metadata": {
    "collapsed": false,
    "ExecuteTime": {
     "end_time": "2024-01-06T21:36:38.728054900Z",
     "start_time": "2024-01-06T21:36:38.724050300Z"
    }
   },
   "id": "70f15d17cccf38cd",
   "execution_count": 0
  },
  {
   "cell_type": "markdown",
   "source": [
    "**Question 3:** What are the datatypes of each feature?"
   ],
   "metadata": {
    "collapsed": false
   },
   "id": "fb9349f5a53b3b64"
  },
  {
   "cell_type": "code",
   "outputs": [],
   "source": [],
   "metadata": {
    "collapsed": false,
    "ExecuteTime": {
     "end_time": "2024-01-06T21:36:41.879558200Z",
     "start_time": "2024-01-06T21:36:41.878552300Z"
    }
   },
   "id": "5f40368d1d79f8ce",
   "execution_count": 0
  },
  {
   "cell_type": "markdown",
   "source": [
    "**Question 4:** What is the target feature name?"
   ],
   "metadata": {
    "collapsed": false
   },
   "id": "df32db5afbd55b6f"
  },
  {
   "cell_type": "code",
   "outputs": [],
   "source": [],
   "metadata": {
    "collapsed": false,
    "ExecuteTime": {
     "end_time": "2024-01-06T21:36:44.552337400Z",
     "start_time": "2024-01-06T21:36:44.548333500Z"
    }
   },
   "id": "74e62ac5aa3c60bc",
   "execution_count": 0
  },
  {
   "cell_type": "markdown",
   "source": [
    "**Question 5:** How many target categories are there?"
   ],
   "metadata": {
    "collapsed": false
   },
   "id": "77bf50f6594841f0"
  },
  {
   "cell_type": "code",
   "outputs": [],
   "source": [],
   "metadata": {
    "collapsed": false,
    "ExecuteTime": {
     "end_time": "2024-01-06T21:36:47.044973200Z",
     "start_time": "2024-01-06T21:36:47.040965300Z"
    }
   },
   "id": "bca7005af6f428c9",
   "execution_count": 0
  },
  {
   "cell_type": "markdown",
   "source": [
    "Create a correlation matrix for the features in this dataset."
   ],
   "metadata": {
    "collapsed": false
   },
   "id": "7c341610f8a60695"
  },
  {
   "cell_type": "code",
   "outputs": [],
   "source": [],
   "metadata": {
    "collapsed": false,
    "ExecuteTime": {
     "end_time": "2024-01-06T21:36:49.565855500Z",
     "start_time": "2024-01-06T21:36:49.564847800Z"
    }
   },
   "id": "2d95459dc189fdad",
   "execution_count": 0
  },
  {
   "cell_type": "markdown",
   "source": [
    "Create a pairwise plot of all the features in this dataset."
   ],
   "metadata": {
    "collapsed": false
   },
   "id": "6c7524b9d18edc3d"
  },
  {
   "cell_type": "code",
   "outputs": [],
   "source": [],
   "metadata": {
    "collapsed": false,
    "ExecuteTime": {
     "end_time": "2024-01-06T21:36:53.240676100Z",
     "start_time": "2024-01-06T21:36:53.236672400Z"
    }
   },
   "id": "fe3d5fffb15a0f8b",
   "execution_count": 0
  },
  {
   "cell_type": "markdown",
   "source": [
    "Speculate as to which features would be most useful for classification based on the above two plots."
   ],
   "metadata": {
    "collapsed": false
   },
   "id": "22b5675f5a6b515b"
  },
  {
   "cell_type": "code",
   "outputs": [],
   "source": [],
   "metadata": {
    "collapsed": false,
    "ExecuteTime": {
     "end_time": "2024-01-06T21:36:56.593123400Z",
     "start_time": "2024-01-06T21:36:56.589119200Z"
    }
   },
   "id": "8c64fe080b509a4b",
   "execution_count": 0
  },
  {
   "cell_type": "markdown",
   "source": [
    "Set up your training and testing datasets."
   ],
   "metadata": {
    "collapsed": false
   },
   "id": "778c87b1fcaa962d"
  },
  {
   "cell_type": "code",
   "outputs": [],
   "source": [],
   "metadata": {
    "collapsed": false,
    "ExecuteTime": {
     "end_time": "2024-01-06T21:36:59.321708600Z",
     "start_time": "2024-01-06T21:36:59.317704200Z"
    }
   },
   "id": "b80850d80774e9d9",
   "execution_count": 0
  },
  {
   "cell_type": "markdown",
   "source": [
    "Train decision tree, SVM, NB and MLP classifiers."
   ],
   "metadata": {
    "collapsed": false
   },
   "id": "8735d3a40a5725b9"
  },
  {
   "cell_type": "code",
   "outputs": [],
   "source": [],
   "metadata": {
    "collapsed": false,
    "ExecuteTime": {
     "end_time": "2024-01-06T21:37:01.749501400Z",
     "start_time": "2024-01-06T21:37:01.745980200Z"
    }
   },
   "id": "3cb8ec38632a9a09",
   "execution_count": 0
  },
  {
   "cell_type": "markdown",
   "source": [
    "Report classification accuracies."
   ],
   "metadata": {
    "collapsed": false
   },
   "id": "d3ce98e4abae1671"
  },
  {
   "cell_type": "markdown",
   "source": [],
   "metadata": {
    "collapsed": false
   },
   "id": "f18c3d9cb130cd1e"
  },
  {
   "cell_type": "code",
   "outputs": [],
   "source": [],
   "metadata": {
    "collapsed": false,
    "ExecuteTime": {
     "end_time": "2024-01-06T21:37:04.369790800Z",
     "start_time": "2024-01-06T21:37:04.364276800Z"
    }
   },
   "id": "fa4eba42c17a1043",
   "execution_count": 0
  }
 ],
 "metadata": {
  "kernelspec": {
   "display_name": "Python 3",
   "language": "python",
   "name": "python3"
  },
  "language_info": {
   "codemirror_mode": {
    "name": "ipython",
    "version": 2
   },
   "file_extension": ".py",
   "mimetype": "text/x-python",
   "name": "python",
   "nbconvert_exporter": "python",
   "pygments_lexer": "ipython2",
   "version": "2.7.6"
  }
 },
 "nbformat": 4,
 "nbformat_minor": 5
}
